{
 "cells": [
  {
   "cell_type": "markdown",
   "id": "08bbc46e",
   "metadata": {},
   "source": [
    "# My Jupyter Notebook on IBM Watson Studio"
   ]
  },
  {
   "cell_type": "markdown",
   "id": "a2f2e0fa",
   "metadata": {},
   "source": [
    "**Micaela**\n",
    "\n",
    "Learn Python."
   ]
  },
  {
   "cell_type": "markdown",
   "id": "2eb8bef4",
   "metadata": {},
   "source": [
    "*I am interested in data science because I like math*"
   ]
  },
  {
   "cell_type": "markdown",
   "id": "acf4230c",
   "metadata": {},
   "source": [
    "### The following function returns the given number plus 1"
   ]
  },
  {
   "cell_type": "code",
   "execution_count": 1,
   "id": "bd030b37",
   "metadata": {},
   "outputs": [
    {
     "data": {
      "text/plain": [
       "6"
      ]
     },
     "execution_count": 1,
     "metadata": {},
     "output_type": "execute_result"
    }
   ],
   "source": [
    "def addition(num):\n",
    "    return num + 1\n",
    "\n",
    "addition(5)"
   ]
  },
  {
   "cell_type": "markdown",
   "id": "e96389d7",
   "metadata": {},
   "source": [
    "---\n",
    "- Hi\n",
    "- Hello\n",
    "- Bye\n",
    "\n",
    "1. Winter\n",
    "2. Summer\n",
    "3. Spring\n",
    "\n",
    "[Coursera](https://www.coursera.org/ \"Coursera's Homepage\")\n",
    "\n",
    "```\n",
    "def addition(num):\n",
    "    return num + 1\n",
    "\n",
    "addition(5)\n",
    "```\n"
   ]
  },
  {
   "cell_type": "code",
   "execution_count": null,
   "id": "18161160",
   "metadata": {},
   "outputs": [],
   "source": []
  }
 ],
 "metadata": {
  "kernelspec": {
   "display_name": "Python 3",
   "language": "python",
   "name": "python3"
  },
  "language_info": {
   "codemirror_mode": {
    "name": "ipython",
    "version": 3
   },
   "file_extension": ".py",
   "mimetype": "text/x-python",
   "name": "python",
   "nbconvert_exporter": "python",
   "pygments_lexer": "ipython3",
   "version": "3.8.8"
  }
 },
 "nbformat": 4,
 "nbformat_minor": 5
}
